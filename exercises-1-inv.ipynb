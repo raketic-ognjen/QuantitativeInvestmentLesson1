{
  "cells": [
    {
      "cell_type": "markdown",
      "source": [
        "# <center><font color='Crimson' style=\"font-size:40px\"><b>Exercises 1</b></font></center>"
      ],
      "metadata": {
        "id": "zc1p2pMkDfG8"
      },
      "id": "zc1p2pMkDfG8"
    },
    {
      "cell_type": "markdown",
      "source": [
        "## <font color='Tomato'><b>1. Utility based portfolio optimization with sqare root function</b></font>"
      ],
      "metadata": {
        "id": "QcMEunZwDcmR"
      },
      "id": "QcMEunZwDcmR"
    },
    {
      "cell_type": "markdown",
      "source": [
        "Suppose that (1) on the market exist **one risky and one riskless assets** and that (2) there are **only two possible states of nature** (3) which are **equally probable**. At time 0, price of the risky stock is 50 dollars while riskless asset offers return of 5% per period. Payoffs of both stocks are presented on binomial tree given below:"
      ],
      "metadata": {
        "id": "ixeT7TaEDgct"
      },
      "id": "ixeT7TaEDgct"
    },
    {
      "cell_type": "markdown",
      "source": [
        "![5.png](data:image/png;base64,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)"
      ],
      "metadata": {
        "id": "ijv93A4CDi3n"
      },
      "id": "ijv93A4CDi3n"
    },
    {
      "cell_type": "markdown",
      "source": [
        "Investor has following **utility function**:\n",
        "\n",
        "$$u(W)=\\sqrt{W}$$"
      ],
      "metadata": {
        "id": "YBqc8UgeDlCh"
      },
      "id": "YBqc8UgeDlCh"
    },
    {
      "cell_type": "markdown",
      "source": [
        "### A"
      ],
      "metadata": {
        "id": "GUdPiM7ADmKU"
      },
      "id": "GUdPiM7ADmKU"
    },
    {
      "cell_type": "markdown",
      "source": [
        "a) If investor plans to **invest 10 000 dollars** of his initial wealth, what would be his/hers **optimal portfolio** in terms of **weights** (i.e. fractions of money invested in these two stocks)?"
      ],
      "metadata": {
        "id": "uDfILW95DnHN"
      },
      "id": "uDfILW95DnHN"
    },
    {
      "cell_type": "markdown",
      "source": [
        "- Optimal portfolio is one that **maximizes utility of future wealth**"
      ],
      "metadata": {
        "id": "6r9wTjxcDn4U"
      },
      "id": "6r9wTjxcDn4U"
    },
    {
      "cell_type": "markdown",
      "source": [
        "- **Future wealth** is defined as:"
      ],
      "metadata": {
        "id": "in4aHPODDo3K"
      },
      "id": "in4aHPODDo3K"
    },
    {
      "cell_type": "markdown",
      "source": [
        "$$W_1=W_0 (1 + r_p)$$"
      ],
      "metadata": {
        "id": "8Rji42HrDpze"
      },
      "id": "8Rji42HrDpze"
    },
    {
      "cell_type": "markdown",
      "source": [
        "- Portfolio return ($r_p$) is weighted sum of individual assets' returns, thus we have:"
      ],
      "metadata": {
        "id": "pgQUif73DrEb"
      },
      "id": "pgQUif73DrEb"
    },
    {
      "cell_type": "markdown",
      "source": [
        "$$W_1=W_0 (1 + \\alpha_{f}r_f+ \\alpha_{s}\\,r_s)$$"
      ],
      "metadata": {
        "id": "b1StB2V9Dr7c"
      },
      "id": "b1StB2V9Dr7c"
    },
    {
      "cell_type": "markdown",
      "source": [
        "- Since weights sum up to 1:"
      ],
      "metadata": {
        "id": "jA-4FqD5Ds-8"
      },
      "id": "jA-4FqD5Ds-8"
    },
    {
      "cell_type": "markdown",
      "source": [
        "$$W_1=W_0 (1 + (1-\\alpha_{s})r_f+ \\alpha_{s}\\,r_s)$$"
      ],
      "metadata": {
        "id": "YSiyIXNHDtuN"
      },
      "id": "YSiyIXNHDtuN"
    },
    {
      "cell_type": "markdown",
      "source": [
        "- Side Note:\n",
        "    - **3 representations** of future wealth (i.e. 3 formulas) for **3 optimization variables** ($\\alpha_s$, $w_s$ and $n_s$)"
      ],
      "metadata": {
        "id": "fPF91-xoDusM"
      },
      "id": "fPF91-xoDusM"
    },
    {
      "cell_type": "markdown",
      "source": [
        "**Step 1 - define numeric variables from $W_1$**"
      ],
      "metadata": {
        "id": "Pv0kLATXDvl8"
      },
      "id": "Pv0kLATXDvl8"
    },
    {
      "cell_type": "markdown",
      "source": [
        "1. Define intitial wealth, $W_0$"
      ],
      "metadata": {
        "id": "2lKphNvGEXV8"
      },
      "id": "2lKphNvGEXV8"
    },
    {
      "cell_type": "code",
      "source": [
        "W0 = 10000"
      ],
      "metadata": {
        "id": "ln7CoudTDj9n"
      },
      "id": "ln7CoudTDj9n",
      "execution_count": 1,
      "outputs": []
    },
    {
      "cell_type": "markdown",
      "source": [
        "2. Define return on riskless asset, $r_f$:"
      ],
      "metadata": {
        "id": "L1kW0lWqEX9e"
      },
      "id": "L1kW0lWqEX9e"
    },
    {
      "cell_type": "code",
      "source": [
        "rf= 0.05"
      ],
      "metadata": {
        "id": "DezNwo_JEbpO"
      },
      "id": "DezNwo_JEbpO",
      "execution_count": 12,
      "outputs": []
    },
    {
      "cell_type": "markdown",
      "source": [
        "3. Compute vector of **possible returns** on risky assets from prices, $r_s$\n",
        "    * It's value depends on realized states\n",
        "    * Convenient to use <font color='MediumSeaGreen'><b>NumPy</b></font> <font color='DodgerBlue'><b>np.array</b></font> due to vectorization\n",
        "        - Bear in mind that matrices from <font color='MediumSeaGreen'><b>SymPy</b></font> <b>aren't vectorized</b>\n",
        "    * In this way we model vector of possible outcomes"
      ],
      "metadata": {
        "id": "5a-dVn32ElKu"
      },
      "id": "5a-dVn32ElKu"
    },
    {
      "cell_type": "code",
      "source": [
        "import numpy as np\n",
        "import sympy as sp"
      ],
      "metadata": {
        "id": "Z8IWryuNEmFc"
      },
      "id": "Z8IWryuNEmFc",
      "execution_count": 2,
      "outputs": []
    },
    {
      "cell_type": "code",
      "source": [
        "rs=np.array([130,70])/100-1\n",
        "rs"
      ],
      "metadata": {
        "id": "BGay3x4MEwpG",
        "outputId": "ca0f1e71-5da3-4255-9cc4-6f04f7b4a907",
        "colab": {
          "base_uri": "https://localhost:8080/"
        }
      },
      "id": "BGay3x4MEwpG",
      "execution_count": 8,
      "outputs": [
        {
          "output_type": "execute_result",
          "data": {
            "text/plain": [
              "array([ 0.3, -0.3])"
            ]
          },
          "metadata": {},
          "execution_count": 8
        }
      ]
    },
    {
      "cell_type": "markdown",
      "source": [
        "**Step 2 - define unknown, i.e. symbolic, variables**\n",
        "* Here we have only one such variable - weight $a_s$\n",
        "* We need <font color='MediumSeaGreen'><b>SymPy</b></font>"
      ],
      "metadata": {
        "id": "Da7J6oMtF-xv"
      },
      "id": "Da7J6oMtF-xv"
    },
    {
      "cell_type": "code",
      "source": [
        "a=sp.Symbol('alpha',real=True)\n",
        "a"
      ],
      "metadata": {
        "id": "pjl-a4L2GCBB",
        "outputId": "217ee79b-84de-4b0e-daa3-3c16e72dbea7",
        "colab": {
          "base_uri": "https://localhost:8080/",
          "height": 38
        }
      },
      "id": "pjl-a4L2GCBB",
      "execution_count": 10,
      "outputs": [
        {
          "output_type": "execute_result",
          "data": {
            "text/plain": [
              "alpha"
            ],
            "text/latex": "$\\displaystyle \\alpha$"
          },
          "metadata": {},
          "execution_count": 10
        }
      ]
    },
    {
      "cell_type": "markdown",
      "source": [
        "**Step 3 - Define investors wealth at time $t=1$**\n",
        "* Convenietly, since <font color='DodgerBlue'><b>np.array</b></font>s are vectorized so we can apply formula above\n",
        "* By doing this, we gain vector of **two possible outcomes** of future wealth depending on realized state of nature"
      ],
      "metadata": {
        "id": "CjlrYKX8GTvV"
      },
      "id": "CjlrYKX8GTvV"
    },
    {
      "cell_type": "code",
      "source": [
        "W1 = W0*(1+(1-a)*rf+a*rs)\n",
        "W1"
      ],
      "metadata": {
        "id": "4SeIDYvmGUdH",
        "outputId": "b2f7003f-9556-45e7-98f4-f81f565a16aa",
        "colab": {
          "base_uri": "https://localhost:8080/"
        }
      },
      "id": "4SeIDYvmGUdH",
      "execution_count": 14,
      "outputs": [
        {
          "output_type": "execute_result",
          "data": {
            "text/plain": [
              "array([2500.0*alpha + 10500.0, 10500.0 - 3500.0*alpha], dtype=object)"
            ]
          },
          "metadata": {},
          "execution_count": 14
        }
      ]
    },
    {
      "cell_type": "markdown",
      "source": [
        "* Now we have to define it as <font color='DodgerBlue'><b>sp.Matrix</b></font>"
      ],
      "metadata": {
        "id": "SJKfnRt8GVHH"
      },
      "id": "SJKfnRt8GVHH"
    },
    {
      "cell_type": "code",
      "source": [
        "W1= sp.Matrix(W1)\n",
        "W1"
      ],
      "metadata": {
        "id": "8CLAxaY2Gphe",
        "outputId": "38001310-1ab0-4597-d20b-084556227b2e",
        "colab": {
          "base_uri": "https://localhost:8080/",
          "height": 58
        }
      },
      "id": "8CLAxaY2Gphe",
      "execution_count": 16,
      "outputs": [
        {
          "output_type": "execute_result",
          "data": {
            "text/plain": [
              "Matrix([\n",
              "[2500.0*alpha + 10500.0],\n",
              "[10500.0 - 3500.0*alpha]])"
            ],
            "text/latex": "$\\displaystyle \\left[\\begin{matrix}2500.0 \\alpha + 10500.0\\\\10500.0 - 3500.0 \\alpha\\end{matrix}\\right]$"
          },
          "metadata": {},
          "execution_count": 16
        }
      ]
    },
    {
      "cell_type": "markdown",
      "source": [
        "**Step 4 - Calculate utility of wealth in time 1 for both states of nature**\n",
        "* Problem: <font color='DodgerBlue'><b>sp.Matrix</b></font> <u>aren't vectorized</u>\n",
        "    - Code bellow will raise an error:"
      ],
      "metadata": {
        "id": "qdrDffm8GvHb"
      },
      "id": "qdrDffm8GvHb"
    },
    {
      "cell_type": "code",
      "source": [
        "W1**0.5"
      ],
      "metadata": {
        "id": "w5moG649GxjE",
        "outputId": "74753e09-75aa-41da-9bf5-068a39d455bc",
        "colab": {
          "base_uri": "https://localhost:8080/",
          "height": 321
        }
      },
      "id": "w5moG649GxjE",
      "execution_count": 23,
      "outputs": [
        {
          "output_type": "error",
          "ename": "NonSquareMatrixError",
          "evalue": "ignored",
          "traceback": [
            "\u001b[0;31m---------------------------------------------------------------------------\u001b[0m",
            "\u001b[0;31mNonSquareMatrixError\u001b[0m                      Traceback (most recent call last)",
            "\u001b[0;32m<ipython-input-23-5b6279df4384>\u001b[0m in \u001b[0;36m<cell line: 1>\u001b[0;34m()\u001b[0m\n\u001b[0;32m----> 1\u001b[0;31m \u001b[0mW1\u001b[0m\u001b[0;34m**\u001b[0m\u001b[0;36m0.5\u001b[0m\u001b[0;34m\u001b[0m\u001b[0;34m\u001b[0m\u001b[0m\n\u001b[0m",
            "\u001b[0;32m/usr/local/lib/python3.10/dist-packages/sympy/core/decorators.py\u001b[0m in \u001b[0;36mbinary_op_wrapper\u001b[0;34m(self, other)\u001b[0m\n\u001b[1;32m    104\u001b[0m                     \u001b[0;32mif\u001b[0m \u001b[0mf\u001b[0m \u001b[0;32mis\u001b[0m \u001b[0;32mnot\u001b[0m \u001b[0;32mNone\u001b[0m\u001b[0;34m:\u001b[0m\u001b[0;34m\u001b[0m\u001b[0;34m\u001b[0m\u001b[0m\n\u001b[1;32m    105\u001b[0m                         \u001b[0;32mreturn\u001b[0m \u001b[0mf\u001b[0m\u001b[0;34m(\u001b[0m\u001b[0mself\u001b[0m\u001b[0;34m)\u001b[0m\u001b[0;34m\u001b[0m\u001b[0;34m\u001b[0m\u001b[0m\n\u001b[0;32m--> 106\u001b[0;31m             \u001b[0;32mreturn\u001b[0m \u001b[0mfunc\u001b[0m\u001b[0;34m(\u001b[0m\u001b[0mself\u001b[0m\u001b[0;34m,\u001b[0m \u001b[0mother\u001b[0m\u001b[0;34m)\u001b[0m\u001b[0;34m\u001b[0m\u001b[0;34m\u001b[0m\u001b[0m\n\u001b[0m\u001b[1;32m    107\u001b[0m         \u001b[0;32mreturn\u001b[0m \u001b[0mbinary_op_wrapper\u001b[0m\u001b[0;34m\u001b[0m\u001b[0;34m\u001b[0m\u001b[0m\n\u001b[1;32m    108\u001b[0m     \u001b[0;32mreturn\u001b[0m \u001b[0mpriority_decorator\u001b[0m\u001b[0;34m\u001b[0m\u001b[0;34m\u001b[0m\u001b[0m\n",
            "\u001b[0;32m/usr/local/lib/python3.10/dist-packages/sympy/matrices/common.py\u001b[0m in \u001b[0;36m__pow__\u001b[0;34m(self, exp)\u001b[0m\n\u001b[1;32m   2778\u001b[0m         \u001b[0;34m\"\"\"Return self**exp a scalar or symbol.\"\"\"\u001b[0m\u001b[0;34m\u001b[0m\u001b[0;34m\u001b[0m\u001b[0m\n\u001b[1;32m   2779\u001b[0m \u001b[0;34m\u001b[0m\u001b[0m\n\u001b[0;32m-> 2780\u001b[0;31m         \u001b[0;32mreturn\u001b[0m \u001b[0mself\u001b[0m\u001b[0;34m.\u001b[0m\u001b[0mpow\u001b[0m\u001b[0;34m(\u001b[0m\u001b[0mexp\u001b[0m\u001b[0;34m)\u001b[0m\u001b[0;34m\u001b[0m\u001b[0;34m\u001b[0m\u001b[0m\n\u001b[0m\u001b[1;32m   2781\u001b[0m \u001b[0;34m\u001b[0m\u001b[0m\n\u001b[1;32m   2782\u001b[0m \u001b[0;34m\u001b[0m\u001b[0m\n",
            "\u001b[0;32m/usr/local/lib/python3.10/dist-packages/sympy/matrices/common.py\u001b[0m in \u001b[0;36mpow\u001b[0;34m(self, exp, method)\u001b[0m\n\u001b[1;32m   2803\u001b[0m             \u001b[0;32mraise\u001b[0m \u001b[0mTypeError\u001b[0m\u001b[0;34m(\u001b[0m\u001b[0;34m'No such method'\u001b[0m\u001b[0;34m)\u001b[0m\u001b[0;34m\u001b[0m\u001b[0;34m\u001b[0m\u001b[0m\n\u001b[1;32m   2804\u001b[0m         \u001b[0;32mif\u001b[0m \u001b[0mself\u001b[0m\u001b[0;34m.\u001b[0m\u001b[0mrows\u001b[0m \u001b[0;34m!=\u001b[0m \u001b[0mself\u001b[0m\u001b[0;34m.\u001b[0m\u001b[0mcols\u001b[0m\u001b[0;34m:\u001b[0m\u001b[0;34m\u001b[0m\u001b[0;34m\u001b[0m\u001b[0m\n\u001b[0;32m-> 2805\u001b[0;31m             \u001b[0;32mraise\u001b[0m \u001b[0mNonSquareMatrixError\u001b[0m\u001b[0;34m(\u001b[0m\u001b[0;34m)\u001b[0m\u001b[0;34m\u001b[0m\u001b[0;34m\u001b[0m\u001b[0m\n\u001b[0m\u001b[1;32m   2806\u001b[0m         \u001b[0ma\u001b[0m \u001b[0;34m=\u001b[0m \u001b[0mself\u001b[0m\u001b[0;34m\u001b[0m\u001b[0;34m\u001b[0m\u001b[0m\n\u001b[1;32m   2807\u001b[0m         \u001b[0mjordan_pow\u001b[0m \u001b[0;34m=\u001b[0m \u001b[0mgetattr\u001b[0m\u001b[0;34m(\u001b[0m\u001b[0ma\u001b[0m\u001b[0;34m,\u001b[0m \u001b[0;34m'_matrix_pow_by_jordan_blocks'\u001b[0m\u001b[0;34m,\u001b[0m \u001b[0;32mNone\u001b[0m\u001b[0;34m)\u001b[0m\u001b[0;34m\u001b[0m\u001b[0;34m\u001b[0m\u001b[0m\n",
            "\u001b[0;31mNonSquareMatrixError\u001b[0m: "
          ]
        }
      ]
    },
    {
      "cell_type": "markdown",
      "source": [
        "* Solution: **Apply utility function** (in this case square root) on vector of possible outcomes\n",
        "    * To apply function on each element of <font color='DodgerBlue'><b>sp.Matrix</b></font> we use method <font color='DeepPink'><b>applyfunc</b></font>\n",
        "    * If there don't exist <font color='MediumSeaGreen'><b>SymPy</b></font> function, we need to define function as <font color='Green'><b>lambda</b></font> or **UDF**"
      ],
      "metadata": {
        "id": "nQXWH7I1HbhL"
      },
      "id": "nQXWH7I1HbhL"
    },
    {
      "cell_type": "code",
      "source": [
        "U=W1.applyfunc(lambda w: w**0.5)\n",
        "U"
      ],
      "metadata": {
        "id": "H1JykTwAHm2g",
        "outputId": "3146da04-9653-436d-f03b-dae124985c09",
        "colab": {
          "base_uri": "https://localhost:8080/",
          "height": 62
        }
      },
      "id": "H1JykTwAHm2g",
      "execution_count": 24,
      "outputs": [
        {
          "output_type": "execute_result",
          "data": {
            "text/plain": [
              "Matrix([\n",
              "[102.469507659596*(0.238095238095238*alpha + 1)**0.5],\n",
              "[102.469507659596*(1 - 0.333333333333333*alpha)**0.5]])"
            ],
            "text/latex": "$\\displaystyle \\left[\\begin{matrix}102.469507659596 \\left(0.238095238095238 \\alpha + 1\\right)^{0.5}\\\\102.469507659596 \\left(1 - 0.333333333333333 \\alpha\\right)^{0.5}\\end{matrix}\\right]$"
          },
          "metadata": {},
          "execution_count": 24
        }
      ]
    },
    {
      "cell_type": "markdown",
      "source": [
        "**Step 5 Calculate expected utility**\n",
        "* **Expected value** is weighted sum of outcomes where weights are probabilities"
      ],
      "metadata": {
        "id": "9VeBQG15HxiM"
      },
      "id": "9VeBQG15HxiM"
    },
    {
      "cell_type": "markdown",
      "source": [
        "$$E[ U(W) ]=\\sum_{i=1}^{N}p_i\\cdot U(W_i)$$"
      ],
      "metadata": {
        "id": "Av1yZ8fZHyh6"
      },
      "id": "Av1yZ8fZHyh6"
    },
    {
      "cell_type": "markdown",
      "source": [
        "$$EU=p \\cdot U$$"
      ],
      "metadata": {
        "id": "xCKTt4qMHzR4"
      },
      "id": "xCKTt4qMHzR4"
    },
    {
      "cell_type": "markdown",
      "source": [
        "1. Define vector of **probabilities**\n",
        "    * Bear in mind **appropriate shape** (we need a row vector, not a column vector) when using <font color='DodgerBlue'><b>sp.Matrix</b></font>"
      ],
      "metadata": {
        "id": "MdaelwSsH0CG"
      },
      "id": "MdaelwSsH0CG"
    },
    {
      "cell_type": "code",
      "source": [
        "p=sp.Matrix([[0.5,0.5]])\n",
        "p"
      ],
      "metadata": {
        "id": "mnTbNDi4H1iq",
        "outputId": "a69cc36c-995e-46f2-c82d-0471a5493ab5",
        "colab": {
          "base_uri": "https://localhost:8080/",
          "height": 38
        }
      },
      "id": "mnTbNDi4H1iq",
      "execution_count": 25,
      "outputs": [
        {
          "output_type": "execute_result",
          "data": {
            "text/plain": [
              "Matrix([[0.5, 0.5]])"
            ],
            "text/latex": "$\\displaystyle \\left[\\begin{matrix}0.5 & 0.5\\end{matrix}\\right]$"
          },
          "metadata": {},
          "execution_count": 25
        }
      ]
    },
    {
      "cell_type": "markdown",
      "source": [
        "2. Compute expected utility"
      ],
      "metadata": {
        "id": "ciXsT77dIL8_"
      },
      "id": "ciXsT77dIL8_"
    },
    {
      "cell_type": "code",
      "source": [
        "EU = (p@U)[0]\n",
        "EU"
      ],
      "metadata": {
        "id": "wN1mB0rJIMx9",
        "outputId": "4b1639ce-2242-4b39-92dc-9c2bcb4cc052",
        "colab": {
          "base_uri": "https://localhost:8080/",
          "height": 39
        }
      },
      "id": "wN1mB0rJIMx9",
      "execution_count": 29,
      "outputs": [
        {
          "output_type": "execute_result",
          "data": {
            "text/plain": [
              "51.234753829798*(1 - 0.333333333333333*alpha)**0.5 + 51.234753829798*(0.238095238095238*alpha + 1)**0.5"
            ],
            "text/latex": "$\\displaystyle 51.234753829798 \\left(1 - 0.333333333333333 \\alpha\\right)^{0.5} + 51.234753829798 \\left(0.238095238095238 \\alpha + 1\\right)^{0.5}$"
          },
          "metadata": {},
          "execution_count": 29
        }
      ]
    },
    {
      "cell_type": "markdown",
      "source": [
        "* This is matrix with single element in it\n",
        "* Let us **extract expression from matrix**"
      ],
      "metadata": {
        "id": "RcKCJamAIU4p"
      },
      "id": "RcKCJamAIU4p"
    },
    {
      "cell_type": "markdown",
      "source": [
        "**Step 6 - Perform optimization**\n",
        "* FOC - already in implicite form"
      ],
      "metadata": {
        "id": "MFXSqo5KIpTu"
      },
      "id": "MFXSqo5KIpTu"
    },
    {
      "cell_type": "markdown",
      "source": [
        "$$\\frac{\\partial E(u)}{\\partial \\alpha}=0$$"
      ],
      "metadata": {
        "id": "GJdzZAzAIq2W"
      },
      "id": "GJdzZAzAIq2W"
    },
    {
      "cell_type": "code",
      "source": [
        "a_opt=sp.solve(EU.diff(a),a)[0]\n",
        "a_opt"
      ],
      "metadata": {
        "id": "28ZLCphaIrk9",
        "outputId": "57e0d6b8-fec2-4d81-cb76-7685b2b71457",
        "colab": {
          "base_uri": "https://localhost:8080/",
          "height": 37
        }
      },
      "id": "28ZLCphaIrk9",
      "execution_count": 33,
      "outputs": [
        {
          "output_type": "execute_result",
          "data": {
            "text/plain": [
              "-1.20000000000000"
            ],
            "text/latex": "$\\displaystyle -1.2$"
          },
          "metadata": {},
          "execution_count": 33
        }
      ]
    },
    {
      "cell_type": "markdown",
      "source": [
        "**Step 7 - fraction of riskless asset**\n",
        "- Weights sum up to 1, thus:"
      ],
      "metadata": {
        "id": "2M0Rt-kiIse9"
      },
      "id": "2M0Rt-kiIse9"
    },
    {
      "cell_type": "code",
      "source": [
        "1-a_opt"
      ],
      "metadata": {
        "id": "-m1acXwuItdF",
        "outputId": "61c6bd5c-2424-487d-ae70-d2fb205e8735",
        "colab": {
          "base_uri": "https://localhost:8080/",
          "height": 37
        }
      },
      "id": "-m1acXwuItdF",
      "execution_count": 34,
      "outputs": [
        {
          "output_type": "execute_result",
          "data": {
            "text/plain": [
              "2.20000000000000"
            ],
            "text/latex": "$\\displaystyle 2.2$"
          },
          "metadata": {},
          "execution_count": 34
        }
      ]
    },
    {
      "cell_type": "markdown",
      "source": [
        "### B"
      ],
      "metadata": {
        "id": "n2qeiwnkJw5a"
      },
      "id": "n2qeiwnkJw5a"
    },
    {
      "cell_type": "markdown",
      "source": [
        "b) Use optimal weights to compute **optimal amount of money** invested in each of two assets."
      ],
      "metadata": {
        "id": "ibZiqzv1JxzI"
      },
      "id": "ibZiqzv1JxzI"
    },
    {
      "cell_type": "markdown",
      "source": [
        "$$w_i=\\alpha\\cdot W_0$$"
      ],
      "metadata": {
        "id": "9xIQCxRqJygM"
      },
      "id": "9xIQCxRqJygM"
    },
    {
      "cell_type": "code",
      "source": [
        "W1_s = a_opt*W0\n",
        "W1_s"
      ],
      "metadata": {
        "id": "f-qOH-BwJzIs",
        "outputId": "cc8fded2-3943-4a2e-db52-40ebac6eba42",
        "colab": {
          "base_uri": "https://localhost:8080/",
          "height": 37
        }
      },
      "id": "f-qOH-BwJzIs",
      "execution_count": 36,
      "outputs": [
        {
          "output_type": "execute_result",
          "data": {
            "text/plain": [
              "-12000.0000000000"
            ],
            "text/latex": "$\\displaystyle -12000.0$"
          },
          "metadata": {},
          "execution_count": 36
        }
      ]
    }
  ],
  "metadata": {
    "kernelspec": {
      "display_name": "Python 3",
      "language": "python",
      "name": "python3"
    },
    "language_info": {
      "codemirror_mode": {
        "name": "ipython",
        "version": 3
      },
      "file_extension": ".py",
      "mimetype": "text/x-python",
      "name": "python",
      "nbconvert_exporter": "python",
      "pygments_lexer": "ipython3",
      "version": "3.10.12"
    },
    "papermill": {
      "default_parameters": {},
      "duration": 12.850198,
      "end_time": "2023-08-17T10:31:46.707939",
      "environment_variables": {},
      "exception": null,
      "input_path": "__notebook__.ipynb",
      "output_path": "__notebook__.ipynb",
      "parameters": {},
      "start_time": "2023-08-17T10:31:33.857741",
      "version": "2.4.0"
    },
    "colab": {
      "provenance": []
    }
  },
  "nbformat": 4,
  "nbformat_minor": 5
}