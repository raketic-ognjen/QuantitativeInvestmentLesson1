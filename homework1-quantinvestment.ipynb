{
  "cells": [
    {
      "cell_type": "markdown",
      "source": [
        "<font color='LightBlue ' style=\"font-size:40px\"><center><b>Problem set 1</b></center></font>"
      ],
      "metadata": {
        "id": "jcq1OPrsotH2"
      },
      "id": "jcq1OPrsotH2"
    },
    {
      "cell_type": "markdown",
      "source": [
        "## <font color='Medium Violet ' style=\"font-size:25px\"><b>Problem 1 - Risk aversion</b></font>\n"
      ],
      "metadata": {
        "id": "A-JkkyiWotAg"
      },
      "id": "A-JkkyiWotAg"
    },
    {
      "cell_type": "markdown",
      "source": [
        "Consider an investor whose utility function is given by the expression:"
      ],
      "metadata": {
        "id": "P5YrBEwko3_1"
      },
      "id": "P5YrBEwko3_1"
    },
    {
      "cell_type": "markdown",
      "source": [
        "$$u(W)=\\frac{W^{1-\\gamma}}{1-\\gamma}$$"
      ],
      "metadata": {
        "id": "ri-ZKDo7o-k9"
      },
      "id": "ri-ZKDo7o-k9"
    },
    {
      "cell_type": "markdown",
      "source": [
        "a) Define utility function $u(W)$ as a symbolic expression in Python which depends on two symbolic variables, $W$ and $\\gamma$."
      ],
      "metadata": {
        "id": "Hee_7R4-pAB4"
      },
      "id": "Hee_7R4-pAB4"
    },
    {
      "cell_type": "code",
      "source": [
        "import sympy as sp"
      ],
      "metadata": {
        "id": "HdJF4LDDpAo1"
      },
      "id": "HdJF4LDDpAo1",
      "execution_count": 1,
      "outputs": []
    },
    {
      "cell_type": "code",
      "source": [
        "W,g = sp.symbols('W, gamma', real = True)\n",
        "\n",
        "u = (W**(1-g))/(1-g)\n",
        "u"
      ],
      "metadata": {
        "id": "JEhpCEOrpBAu",
        "outputId": "67311e94-eeb9-44c3-b757-b3d81327575f",
        "colab": {
          "base_uri": "https://localhost:8080/",
          "height": 57
        }
      },
      "id": "JEhpCEOrpBAu",
      "execution_count": 5,
      "outputs": [
        {
          "output_type": "execute_result",
          "data": {
            "text/plain": [
              "W**(1 - gamma)/(1 - gamma)"
            ],
            "text/latex": "$\\displaystyle \\frac{W^{1 - \\gamma}}{1 - \\gamma}$"
          },
          "metadata": {},
          "execution_count": 5
        }
      ]
    },
    {
      "cell_type": "markdown",
      "source": [
        "b) Calculate the absolute coefficient of risk aversion of an investor who has such a utility function (A)."
      ],
      "metadata": {
        "id": "ZmCEHepopuur"
      },
      "id": "ZmCEHepopuur"
    },
    {
      "cell_type": "code",
      "source": [
        "A = -(u.diff(W,2)/u.diff(W))\n",
        "A"
      ],
      "metadata": {
        "id": "iw3Z_DBOpvpf",
        "outputId": "0c0d52f0-6385-47e5-cd4e-3046b01787ba",
        "colab": {
          "base_uri": "https://localhost:8080/",
          "height": 54
        }
      },
      "id": "iw3Z_DBOpvpf",
      "execution_count": 7,
      "outputs": [
        {
          "output_type": "execute_result",
          "data": {
            "text/plain": [
              "W**(1 - gamma)*W**(gamma - 1)*gamma/W"
            ],
            "text/latex": "$\\displaystyle \\frac{W^{1 - \\gamma} W^{\\gamma - 1} \\gamma}{W}$"
          },
          "metadata": {},
          "execution_count": 7
        }
      ]
    },
    {
      "cell_type": "markdown",
      "source": [
        "c) Suppose $\\gamma = 0.6$. Compare **marginal utilities** of the investor if her wealth is 1000 and 1200. Comment whether your results make sense."
      ],
      "metadata": {
        "id": "p1NDhnh5p8l-"
      },
      "id": "p1NDhnh5p8l-"
    },
    {
      "cell_type": "code",
      "source": [
        "mu = u.diff(W)\n",
        "print(f'Marginal utility at W=1000: {mu.subs({W:1000, g:0.6})} \\nMarginal utility at W=1200 {mu.subs({W:1200,g:0.6})}')"
      ],
      "metadata": {
        "id": "5Ya5g3wjr_Yk",
        "outputId": "3ec19c89-740e-44e1-971d-2533a6fc2805",
        "colab": {
          "base_uri": "https://localhost:8080/"
        }
      },
      "id": "5Ya5g3wjr_Yk",
      "execution_count": 10,
      "outputs": [
        {
          "output_type": "stream",
          "name": "stdout",
          "text": [
            "Marginal utility at W=1000: 0.0158489319246111 \n",
            "Marginal utility at W=1200 0.0142066359733971\n"
          ]
        }
      ]
    },
    {
      "cell_type": "markdown",
      "source": [
        "<font color='crimson'>Put your comment here: </font>\n",
        "\n",
        "Our investor's marginal utility at <font color='salmon'>W=1200</font> is less than their marginal utility at <font color='salmon'>W=1000</font>, meaning that their utility function is concave; that is, as their wealth increases, the amount of derived utility per additional unit of wealth decreases."
      ],
      "metadata": {
        "id": "ca5xXS6mtZ9f"
      },
      "id": "ca5xXS6mtZ9f"
    },
    {
      "cell_type": "markdown",
      "source": [
        "d) Suppose this investor can invest into a riskless and risky asset and that he finds an optimal portfolio. Suppose, now, that such an investor gets suddenly twice as wealthy. How should he change (or not) **the optimal amount of money** that he would invest into the risky portfolio? Answer this question **WITHOUT** performing portfolio optimization. Base your answer on the <u>Fundamental theorem</u> of portfolio optimization explained in class.\n",
        "\n",
        "PS: Write an answer in passive (markdown/text) cell provided below."
      ],
      "metadata": {
        "id": "4W7B73hBtesr"
      },
      "id": "4W7B73hBtesr"
    },
    {
      "cell_type": "markdown",
      "source": [
        "<font color='crimson'>Put your answer here: </font>\n",
        "\n",
        "In the case of our investor, their absolute coefficient of risk aversion decreases as their wealth grows, meaning that they become less risk averse; i.e the optimal amount of money (in absolute terms) they would put in the risky asses would increase."
      ],
      "metadata": {
        "id": "KoKF46pqtiNr"
      },
      "id": "KoKF46pqtiNr"
    },
    {
      "cell_type": "markdown",
      "source": [
        "e) If the investor gets twice as wealthy would he **change the optimal fraction of money** invested into the risky asset? If so, would he increase or decrease the fraction invested into the risky asset? Which indicator you need to callculate in order to answer this question <u>without performing a portfolio optimization</u>?\n",
        "\n",
        "PS: Compute the indicator and make a comment based on it's value."
      ],
      "metadata": {
        "id": "zxdrakoPt0IN"
      },
      "id": "zxdrakoPt0IN"
    },
    {
      "cell_type": "code",
      "source": [
        "R = W*A\n",
        "R"
      ],
      "metadata": {
        "id": "pEb9PxmXt1mu",
        "outputId": "4e925c82-0445-4b9a-bd42-19ce241e68fa",
        "colab": {
          "base_uri": "https://localhost:8080/",
          "height": 38
        }
      },
      "id": "pEb9PxmXt1mu",
      "execution_count": 11,
      "outputs": [
        {
          "output_type": "execute_result",
          "data": {
            "text/plain": [
              "W**(1 - gamma)*W**(gamma - 1)*gamma"
            ],
            "text/latex": "$\\displaystyle W^{1 - \\gamma} W^{\\gamma - 1} \\gamma$"
          },
          "metadata": {},
          "execution_count": 11
        }
      ]
    },
    {
      "cell_type": "code",
      "source": [
        "print(f'Relative coefficient of risk aversion at W=1000: {R.subs({W:1000,g:0.6}):0.4}\\nRelative coefficient of risk aversion at W=2000: {R.subs({W:2000,g:0.6}):.4}')"
      ],
      "metadata": {
        "id": "T48QVq6VuAk-",
        "outputId": "a44ceee9-6383-4215-d8a5-d1f7e6cfc198",
        "colab": {
          "base_uri": "https://localhost:8080/"
        }
      },
      "id": "T48QVq6VuAk-",
      "execution_count": 12,
      "outputs": [
        {
          "output_type": "stream",
          "name": "stdout",
          "text": [
            "Relative coefficient of risk aversion at W=1000: 0.6000\n",
            "Relative coefficient of risk aversion at W=2000: 0.6000\n"
          ]
        }
      ]
    },
    {
      "cell_type": "markdown",
      "source": [
        "<font color='crimson'>Put your comment here: </font>\n",
        "\n",
        "As can be observed from the output above, the relative coefficient of risk aversion remains the same at both W=1000 and at double that, implying that no, our investor would not change the optimal fraction of money invested into the risky asset, regardless of their wealth."
      ],
      "metadata": {
        "id": "dxUbgC3WuAXa"
      },
      "id": "dxUbgC3WuAXa"
    },
    {
      "cell_type": "markdown",
      "source": [
        "## <font color='Violet ' style=\"font-size:25px\"><b>Problem 2 - Portfolio optimization</b></font>"
      ],
      "metadata": {
        "id": "NHF9zcdiuiZ9"
      },
      "id": "NHF9zcdiuiZ9"
    },
    {
      "cell_type": "markdown",
      "source": [
        "An investor has the utility function described in <font color='Violet '><b>Problem 1</b></font> with $\\gamma=0.6$. Investor has initial wealth of $1000$ dollars. That amount of money can be invested either into a riskless asset which offers risk-free one period return of $r=3\\%$, or  into a risky asset. Price of the risky asset can go up or down in the next period by $20\\%$. Probability of an up move is $60$%. The initial price of risky asset is $50$ dollars while the initial price of the riskless asset is 1 dollar."
      ],
      "metadata": {
        "id": "AFEFLJ5tulZl"
      },
      "id": "AFEFLJ5tulZl"
    },
    {
      "cell_type": "markdown",
      "source": [
        "a) Find the optimal **amount of money** that should be invested into the risky asset. Bear in mind that the only difference between this problem and the example from the lecture notes is a different utility function."
      ],
      "metadata": {
        "id": "jJEmnITxuoAF"
      },
      "id": "jJEmnITxuoAF"
    },
    {
      "cell_type": "markdown",
      "source": [
        "![5.png](data:image/png;base64,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)"
      ],
      "metadata": {
        "id": "lC4D0L8kup1p"
      },
      "id": "lC4D0L8kup1p"
    },
    {
      "cell_type": "code",
      "source": [
        "import numpy as np"
      ],
      "metadata": {
        "id": "aMJ7QEdWurGr"
      },
      "id": "aMJ7QEdWurGr",
      "execution_count": 13,
      "outputs": []
    },
    {
      "cell_type": "code",
      "source": [
        "#Initial Wealth of investor\n",
        "W0=1000\n",
        "\n",
        "#Return on risky asset\n",
        "rs = np.array([60,40])/50-1\n",
        "\n",
        "#Return on riskless asset\n",
        "rf = 0.03\n",
        "\n",
        "#Variable representating the fraction of wealth invested into the risky asset.\n",
        "#We can get the fraction of wealth invested into the riskless asset with 1 - alpha\n",
        "a = sp.Symbol('alpha', real=True)\n",
        "\n",
        "#Two possible of future wealth, calculated via portfolio return( return through both the riskless and risky asset)\n",
        "#Based off our investor initial wealth\n",
        "\n",
        "W1=sp.Matrix(W0 * (1 + (1 - a)* rf + a* rs))\n",
        "W1"
      ],
      "metadata": {
        "id": "lnYq5dRevFqc",
        "outputId": "7e5d7d02-a958-495e-a63a-c2594d1b7c54",
        "colab": {
          "base_uri": "https://localhost:8080/",
          "height": 58
        }
      },
      "id": "lnYq5dRevFqc",
      "execution_count": 14,
      "outputs": [
        {
          "output_type": "execute_result",
          "data": {
            "text/plain": [
              "Matrix([\n",
              "[170.0*alpha + 1030.0],\n",
              "[1030.0 - 230.0*alpha]])"
            ],
            "text/latex": "$\\displaystyle \\left[\\begin{matrix}170.0 \\alpha + 1030.0\\\\1030.0 - 230.0 \\alpha\\end{matrix}\\right]$"
          },
          "metadata": {},
          "execution_count": 14
        }
      ]
    },
    {
      "cell_type": "code",
      "source": [
        "#Our Investor's derived utility from each possible outcome\n",
        "U=W1.applyfunc(lambda x: u.subs({W:x, g:0.6}))\n",
        "U"
      ],
      "metadata": {
        "id": "pAANoUhmwZVc",
        "outputId": "0fd7f114-d9a7-4e75-a9b6-30911565d160",
        "colab": {
          "base_uri": "https://localhost:8080/",
          "height": 62
        }
      },
      "id": "pAANoUhmwZVc",
      "execution_count": 17,
      "outputs": [
        {
          "output_type": "execute_result",
          "data": {
            "text/plain": [
              "Matrix([\n",
              "[ 40.0935857181091*(0.16504854368932*alpha + 1)**0.4],\n",
              "[40.0935857181091*(1 - 0.223300970873786*alpha)**0.4]])"
            ],
            "text/latex": "$\\displaystyle \\left[\\begin{matrix}40.0935857181091 \\left(0.16504854368932 \\alpha + 1\\right)^{0.4}\\\\40.0935857181091 \\left(1 - 0.223300970873786 \\alpha\\right)^{0.4}\\end{matrix}\\right]$"
          },
          "metadata": {},
          "execution_count": 17
        }
      ]
    },
    {
      "cell_type": "code",
      "source": [
        "#Probability vector for the risky asset\n",
        "p = sp.Matrix([[0.6,0.4]])\n",
        "\n",
        "#Expected utility; we multiply each outcome by their respective probabilities\n",
        "EU = (p@U)[0]\n",
        "EU"
      ],
      "metadata": {
        "id": "RQh64TViwES-",
        "outputId": "0c7d4434-89b0-4d76-d6c1-4494eab4bfb1",
        "colab": {
          "base_uri": "https://localhost:8080/",
          "height": 39
        }
      },
      "id": "RQh64TViwES-",
      "execution_count": 18,
      "outputs": [
        {
          "output_type": "execute_result",
          "data": {
            "text/plain": [
              "16.0374342872437*(1 - 0.223300970873786*alpha)**0.4 + 24.0561514308655*(0.16504854368932*alpha + 1)**0.4"
            ],
            "text/latex": "$\\displaystyle 16.0374342872437 \\left(1 - 0.223300970873786 \\alpha\\right)^{0.4} + 24.0561514308655 \\left(0.16504854368932 \\alpha + 1\\right)^{0.4}$"
          },
          "metadata": {},
          "execution_count": 18
        }
      ]
    },
    {
      "cell_type": "code",
      "source": [
        "a_opt = (sp.solve(EU.diff(a),a))[0]\n",
        "print(f'Optimal fraction of wealth invested into risky asset: {a_opt:.4}\\nOptimal fraction of wealth invested into riskless asset: {1-a_opt:.4}')"
      ],
      "metadata": {
        "id": "caAIRArdwsNM",
        "outputId": "9eb62445-2414-4166-9115-45c8d4eb38a5",
        "colab": {
          "base_uri": "https://localhost:8080/"
        }
      },
      "id": "caAIRArdwsNM",
      "execution_count": 21,
      "outputs": [
        {
          "output_type": "stream",
          "name": "stdout",
          "text": [
            "Optimal fraction of wealth invested into risky asset: 0.4361\n",
            "Optimal fraction of wealth invested into riskless asset: 0.5639\n"
          ]
        }
      ]
    },
    {
      "cell_type": "markdown",
      "source": [],
      "metadata": {
        "id": "8MpF8ZOxwq5F"
      },
      "id": "8MpF8ZOxwq5F"
    }
  ],
  "metadata": {
    "kernelspec": {
      "display_name": "Python 3",
      "language": "python",
      "name": "python3"
    },
    "language_info": {
      "codemirror_mode": {
        "name": "ipython",
        "version": 3
      },
      "file_extension": ".py",
      "mimetype": "text/x-python",
      "name": "python",
      "nbconvert_exporter": "python",
      "pygments_lexer": "ipython3",
      "version": "3.10.12"
    },
    "papermill": {
      "default_parameters": {},
      "duration": 13.106651,
      "end_time": "2023-08-17T17:54:02.390882",
      "environment_variables": {},
      "exception": null,
      "input_path": "__notebook__.ipynb",
      "output_path": "__notebook__.ipynb",
      "parameters": {},
      "start_time": "2023-08-17T17:53:49.284231",
      "version": "2.4.0"
    },
    "colab": {
      "provenance": []
    }
  },
  "nbformat": 4,
  "nbformat_minor": 5
}